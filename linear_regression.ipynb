{
 "cells": [
  {
   "cell_type": "code",
   "execution_count": 2,
   "metadata": {},
   "outputs": [],
   "source": [
    "import pandas as pd\n",
    "import numpy as np\n",
    "from sklearn.model_selection import train_test_split\n",
    "from sklearn.linear_model import LinearRegression"
   ]
  },
  {
   "cell_type": "code",
   "execution_count": 3,
   "metadata": {},
   "outputs": [],
   "source": [
    "df = pd.read_csv('student-por.csv',delimiter=\";\")"
   ]
  },
  {
   "cell_type": "code",
   "execution_count": 4,
   "metadata": {},
   "outputs": [],
   "source": [
    "df['G'] = df.apply(lambda row: (row[\"G1\"] + row[\"G2\"] + row[\"G3\"])/3, axis=1)\n",
    "df['G'] = df['G'].astype('int64')"
   ]
  },
  {
   "cell_type": "code",
   "execution_count": 5,
   "metadata": {},
   "outputs": [
    {
     "name": "stderr",
     "output_type": "stream",
     "text": [
      "/var/folders/j6/4jq4sj8s6yb1qwrn76x2g6q00000gp/T/ipykernel_5137/3954079348.py:7: FutureWarning: Downcasting behavior in `replace` is deprecated and will be removed in a future version. To retain the old behavior, explicitly call `result.infer_objects(copy=False)`. To opt-in to the future behavior, set `pd.set_option('future.no_silent_downcasting', True)`\n",
      "  df_amended[i] = df_amended[i].replace({i2:new_value})\n",
      "/var/folders/j6/4jq4sj8s6yb1qwrn76x2g6q00000gp/T/ipykernel_5137/3954079348.py:7: FutureWarning: Downcasting behavior in `replace` is deprecated and will be removed in a future version. To retain the old behavior, explicitly call `result.infer_objects(copy=False)`. To opt-in to the future behavior, set `pd.set_option('future.no_silent_downcasting', True)`\n",
      "  df_amended[i] = df_amended[i].replace({i2:new_value})\n",
      "/var/folders/j6/4jq4sj8s6yb1qwrn76x2g6q00000gp/T/ipykernel_5137/3954079348.py:7: FutureWarning: Downcasting behavior in `replace` is deprecated and will be removed in a future version. To retain the old behavior, explicitly call `result.infer_objects(copy=False)`. To opt-in to the future behavior, set `pd.set_option('future.no_silent_downcasting', True)`\n",
      "  df_amended[i] = df_amended[i].replace({i2:new_value})\n",
      "/var/folders/j6/4jq4sj8s6yb1qwrn76x2g6q00000gp/T/ipykernel_5137/3954079348.py:7: FutureWarning: Downcasting behavior in `replace` is deprecated and will be removed in a future version. To retain the old behavior, explicitly call `result.infer_objects(copy=False)`. To opt-in to the future behavior, set `pd.set_option('future.no_silent_downcasting', True)`\n",
      "  df_amended[i] = df_amended[i].replace({i2:new_value})\n",
      "/var/folders/j6/4jq4sj8s6yb1qwrn76x2g6q00000gp/T/ipykernel_5137/3954079348.py:7: FutureWarning: Downcasting behavior in `replace` is deprecated and will be removed in a future version. To retain the old behavior, explicitly call `result.infer_objects(copy=False)`. To opt-in to the future behavior, set `pd.set_option('future.no_silent_downcasting', True)`\n",
      "  df_amended[i] = df_amended[i].replace({i2:new_value})\n",
      "/var/folders/j6/4jq4sj8s6yb1qwrn76x2g6q00000gp/T/ipykernel_5137/3954079348.py:7: FutureWarning: Downcasting behavior in `replace` is deprecated and will be removed in a future version. To retain the old behavior, explicitly call `result.infer_objects(copy=False)`. To opt-in to the future behavior, set `pd.set_option('future.no_silent_downcasting', True)`\n",
      "  df_amended[i] = df_amended[i].replace({i2:new_value})\n",
      "/var/folders/j6/4jq4sj8s6yb1qwrn76x2g6q00000gp/T/ipykernel_5137/3954079348.py:7: FutureWarning: Downcasting behavior in `replace` is deprecated and will be removed in a future version. To retain the old behavior, explicitly call `result.infer_objects(copy=False)`. To opt-in to the future behavior, set `pd.set_option('future.no_silent_downcasting', True)`\n",
      "  df_amended[i] = df_amended[i].replace({i2:new_value})\n",
      "/var/folders/j6/4jq4sj8s6yb1qwrn76x2g6q00000gp/T/ipykernel_5137/3954079348.py:7: FutureWarning: Downcasting behavior in `replace` is deprecated and will be removed in a future version. To retain the old behavior, explicitly call `result.infer_objects(copy=False)`. To opt-in to the future behavior, set `pd.set_option('future.no_silent_downcasting', True)`\n",
      "  df_amended[i] = df_amended[i].replace({i2:new_value})\n",
      "/var/folders/j6/4jq4sj8s6yb1qwrn76x2g6q00000gp/T/ipykernel_5137/3954079348.py:7: FutureWarning: Downcasting behavior in `replace` is deprecated and will be removed in a future version. To retain the old behavior, explicitly call `result.infer_objects(copy=False)`. To opt-in to the future behavior, set `pd.set_option('future.no_silent_downcasting', True)`\n",
      "  df_amended[i] = df_amended[i].replace({i2:new_value})\n",
      "/var/folders/j6/4jq4sj8s6yb1qwrn76x2g6q00000gp/T/ipykernel_5137/3954079348.py:7: FutureWarning: Downcasting behavior in `replace` is deprecated and will be removed in a future version. To retain the old behavior, explicitly call `result.infer_objects(copy=False)`. To opt-in to the future behavior, set `pd.set_option('future.no_silent_downcasting', True)`\n",
      "  df_amended[i] = df_amended[i].replace({i2:new_value})\n",
      "/var/folders/j6/4jq4sj8s6yb1qwrn76x2g6q00000gp/T/ipykernel_5137/3954079348.py:7: FutureWarning: Downcasting behavior in `replace` is deprecated and will be removed in a future version. To retain the old behavior, explicitly call `result.infer_objects(copy=False)`. To opt-in to the future behavior, set `pd.set_option('future.no_silent_downcasting', True)`\n",
      "  df_amended[i] = df_amended[i].replace({i2:new_value})\n",
      "/var/folders/j6/4jq4sj8s6yb1qwrn76x2g6q00000gp/T/ipykernel_5137/3954079348.py:7: FutureWarning: Downcasting behavior in `replace` is deprecated and will be removed in a future version. To retain the old behavior, explicitly call `result.infer_objects(copy=False)`. To opt-in to the future behavior, set `pd.set_option('future.no_silent_downcasting', True)`\n",
      "  df_amended[i] = df_amended[i].replace({i2:new_value})\n",
      "/var/folders/j6/4jq4sj8s6yb1qwrn76x2g6q00000gp/T/ipykernel_5137/3954079348.py:7: FutureWarning: Downcasting behavior in `replace` is deprecated and will be removed in a future version. To retain the old behavior, explicitly call `result.infer_objects(copy=False)`. To opt-in to the future behavior, set `pd.set_option('future.no_silent_downcasting', True)`\n",
      "  df_amended[i] = df_amended[i].replace({i2:new_value})\n",
      "/var/folders/j6/4jq4sj8s6yb1qwrn76x2g6q00000gp/T/ipykernel_5137/3954079348.py:7: FutureWarning: Downcasting behavior in `replace` is deprecated and will be removed in a future version. To retain the old behavior, explicitly call `result.infer_objects(copy=False)`. To opt-in to the future behavior, set `pd.set_option('future.no_silent_downcasting', True)`\n",
      "  df_amended[i] = df_amended[i].replace({i2:new_value})\n",
      "/var/folders/j6/4jq4sj8s6yb1qwrn76x2g6q00000gp/T/ipykernel_5137/3954079348.py:7: FutureWarning: Downcasting behavior in `replace` is deprecated and will be removed in a future version. To retain the old behavior, explicitly call `result.infer_objects(copy=False)`. To opt-in to the future behavior, set `pd.set_option('future.no_silent_downcasting', True)`\n",
      "  df_amended[i] = df_amended[i].replace({i2:new_value})\n",
      "/var/folders/j6/4jq4sj8s6yb1qwrn76x2g6q00000gp/T/ipykernel_5137/3954079348.py:7: FutureWarning: Downcasting behavior in `replace` is deprecated and will be removed in a future version. To retain the old behavior, explicitly call `result.infer_objects(copy=False)`. To opt-in to the future behavior, set `pd.set_option('future.no_silent_downcasting', True)`\n",
      "  df_amended[i] = df_amended[i].replace({i2:new_value})\n",
      "/var/folders/j6/4jq4sj8s6yb1qwrn76x2g6q00000gp/T/ipykernel_5137/3954079348.py:7: FutureWarning: Downcasting behavior in `replace` is deprecated and will be removed in a future version. To retain the old behavior, explicitly call `result.infer_objects(copy=False)`. To opt-in to the future behavior, set `pd.set_option('future.no_silent_downcasting', True)`\n",
      "  df_amended[i] = df_amended[i].replace({i2:new_value})\n"
     ]
    }
   ],
   "source": [
    "df_amended = df\n",
    "\n",
    "for i in df_amended.columns:\n",
    "    if df_amended.dtypes[i] == 'object':\n",
    "        new_value = 0\n",
    "        for i2 in df_amended[i].unique():            \n",
    "            df_amended[i] = df_amended[i].replace({i2:new_value})\n",
    "            new_value += 1\n",
    "    else:\n",
    "        pass"
   ]
  },
  {
   "cell_type": "code",
   "execution_count": 6,
   "metadata": {},
   "outputs": [],
   "source": [
    "X = df_amended.drop(['G1', 'G2', 'G3', 'G'], axis=1)\n",
    "y = df_amended['G']"
   ]
  },
  {
   "cell_type": "code",
   "execution_count": 7,
   "metadata": {},
   "outputs": [
    {
     "name": "stdout",
     "output_type": "stream",
     "text": [
      "     school  sex  age  address  famsize  Pstatus  Medu  Fedu  Mjob  Fjob  ...  \\\n",
      "584       1    0   17        1        0        1     0     0     0     1  ...   \n",
      "252       0    0   16        0        0        0     4     1     2     1  ...   \n",
      "118       0    1   17        1        0        1     1     3     2     1  ...   \n",
      "481       1    0   17        1        0        1     2     1     0     1  ...   \n",
      "407       0    0   21        0        1        1     4     4     2     1  ...   \n",
      "..      ...  ...  ...      ...      ...      ...   ...   ...   ...   ...  ...   \n",
      "140       0    1   17        1        0        1     3     4     0     1  ...   \n",
      "259       0    0   17        0        1        1     1     1     0     4  ...   \n",
      "168       0    1   15        1        0        1     2     3     0     2  ...   \n",
      "365       0    0   17        0        0        0     4     3     3     2  ...   \n",
      "615       1    0   17        0        1        0     3     2     3     1  ...   \n",
      "\n",
      "     higher  internet  romantic  famrel  freetime  goout  Dalc  Walc  health  \\\n",
      "584       0         1         0       4         4      3     1     1       5   \n",
      "252       0         1         1       5         3      3     1     2       5   \n",
      "118       0         1         0       5         2      4     1     4       5   \n",
      "481       1         0         1       5         5      3     1     1       3   \n",
      "407       0         1         0       3         3      2     1     1       5   \n",
      "..      ...       ...       ...     ...       ...    ...   ...   ...     ...   \n",
      "140       0         0         0       5         4      5     2     4       5   \n",
      "259       0         1         1       4         3      2     1     2       4   \n",
      "168       0         0         0       4         4      4     1     1       1   \n",
      "365       0         1         1       5         2      2     1     2       5   \n",
      "615       0         0         1       1         2      3     1     2       5   \n",
      "\n",
      "     absences  \n",
      "584         0  \n",
      "252         0  \n",
      "118        14  \n",
      "481         2  \n",
      "407         0  \n",
      "..        ...  \n",
      "140         2  \n",
      "259        10  \n",
      "168         0  \n",
      "365        14  \n",
      "615         0  \n",
      "\n",
      "[519 rows x 30 columns]\n",
      "584    10\n",
      "252    13\n",
      "118    11\n",
      "481    10\n",
      "407    11\n",
      "       ..\n",
      "140     9\n",
      "259    10\n",
      "168     7\n",
      "365    15\n",
      "615    14\n",
      "Name: G, Length: 519, dtype: int64\n"
     ]
    }
   ],
   "source": [
    "from sklearn.model_selection import train_test_split\n",
    "\n",
    "X_train, X_test, y_train, y_test = train_test_split(X, y, test_size = 0.2)\n",
    "\n",
    "print(X_train)\n",
    "print(y_train)"
   ]
  },
  {
   "cell_type": "code",
   "execution_count": 8,
   "metadata": {},
   "outputs": [
    {
     "name": "stdout",
     "output_type": "stream",
     "text": [
      "equation of primes: y = -1.15x + 9.37\n"
     ]
    }
   ],
   "source": [
    "model = LinearRegression()\n",
    "model.fit(X_train, y_train)\n",
    "\n",
    "print(f'Equation of primes: y = {model.coef_[0]:.2f}x + {model.intercept_:.2f}')"
   ]
  },
  {
   "cell_type": "code",
   "execution_count": null,
   "metadata": {},
   "outputs": [],
   "source": [
    "plt.scatter(X_train, y_train, color='blue', label='Training data')\n"
   ]
  }
 ],
 "metadata": {
  "kernelspec": {
   "display_name": "lm_exercise",
   "language": "python",
   "name": "python3"
  },
  "language_info": {
   "codemirror_mode": {
    "name": "ipython",
    "version": 3
   },
   "file_extension": ".py",
   "mimetype": "text/x-python",
   "name": "python",
   "nbconvert_exporter": "python",
   "pygments_lexer": "ipython3",
   "version": "3.13.1"
  }
 },
 "nbformat": 4,
 "nbformat_minor": 2
}
